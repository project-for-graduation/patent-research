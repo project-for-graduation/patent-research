{
 "cells": [
  {
   "cell_type": "markdown",
   "id": "34acbfc8",
   "metadata": {},
   "source": [
    "### Pyspark訓練"
   ]
  },
  {
   "cell_type": "code",
   "execution_count": 1,
   "id": "0e52cf0d",
   "metadata": {},
   "outputs": [],
   "source": [
    "# 初始設定\n",
    "import findspark\n",
    "findspark.init()\n",
    "\n",
    "from pyspark.sql import SparkSession\n",
    "spark = SparkSession \\\n",
    "    .builder \\\n",
    "    .appName(\"test pyspark\") \\\n",
    "    .getOrCreate()\n",
    "\n",
    "sc = spark.sparkContext"
   ]
  },
  {
   "cell_type": "code",
   "execution_count": 2,
   "id": "e16e2cac",
   "metadata": {},
   "outputs": [
    {
     "name": "stdout",
     "output_type": "stream",
     "text": [
      "+-------------+-------------+-----------------+--------------------------+-------------------------------------+--------------------------------+\n",
      "|lication_nums|release_dates|application_dates|                    titles|                            summaries|                           words|\n",
      "+-------------+-------------+-----------------+--------------------------+-------------------------------------+--------------------------------+\n",
      "|      M620346|   2021/11/21|       2021/09/29|        川流式水力發電系統|本創作係揭露一種川流式水力發電系統...|一種 川流 水力 發電系統 包括 ...|\n",
      "|      M620327|   2021/11/21|       2021/09/06|                  撐開螺絲|本創作係一種撐開螺絲，撐開螺絲包含...|一種 開螺絲 用以 將一連 接件 ...|\n",
      "|      M620322|   2021/11/21|       2021/09/03|具食物保鮮致冷裝置之烹煮台|一種具食物保鮮致冷裝置之烹煮台，主...|一種 食物 保鮮 致冷 裝置 烹煮...|\n",
      "|      M620321|   2021/11/21|       2021/09/03|              餐飲製作設備|一種餐飲製作設備，主要包括有一點餐...|一種 設有 一容置 空間 容置 空...|\n",
      "|      M620318|   2021/11/21|       2021/09/02|      應用程式異常偵測系統|本創作為一種應用程式異常偵測系統，...|一種 應用 程式 異常 偵測 系統...|\n",
      "+-------------+-------------+-----------------+--------------------------+-------------------------------------+--------------------------------+\n",
      "only showing top 5 rows\n",
      "\n"
     ]
    }
   ],
   "source": [
    "# 匯入csv\n",
    "df = spark.read.csv(\"wordsegs_data.csv\", header = True)\n",
    "df.show(5)"
   ]
  },
  {
   "cell_type": "code",
   "execution_count": 3,
   "id": "af93e7b8",
   "metadata": {},
   "outputs": [],
   "source": [
    "from pyspark.sql import functions as F\n",
    "from pyspark.sql import types as T\n",
    "\n",
    "# words轉list\n",
    "df = df.withColumn('words_split', F.split(df.words, \" \"))"
   ]
  },
  {
   "cell_type": "code",
   "execution_count": 4,
   "id": "861ba341",
   "metadata": {},
   "outputs": [
    {
     "name": "stdout",
     "output_type": "stream",
     "text": [
      "root\n",
      " |-- lication_nums: string (nullable = true)\n",
      " |-- release_dates: string (nullable = true)\n",
      " |-- application_dates: string (nullable = true)\n",
      " |-- titles: string (nullable = true)\n",
      " |-- summaries: string (nullable = true)\n",
      " |-- words: string (nullable = true)\n",
      " |-- words_split: array (nullable = true)\n",
      " |    |-- element: string (containsNull = true)\n",
      " |-- word2Vec: vector (nullable = true)\n",
      "\n"
     ]
    }
   ],
   "source": [
    "from pyspark.ml.feature import Word2Vec\n",
    "\n",
    "word2Vec = Word2Vec(\n",
    "        vectorSize = 5,\n",
    "        minCount = 0,\n",
    "        inputCol = \"words_split\",\n",
    "        outputCol = \"word2Vec\")\n",
    "\n",
    "model = word2Vec.fit(df)\n",
    "df_word2vec = model.transform(df)\n",
    "df_word2vec.printSchema()"
   ]
  },
  {
   "cell_type": "code",
   "execution_count": 5,
   "id": "b53582bc",
   "metadata": {
    "scrolled": true
   },
   "outputs": [
    {
     "name": "stdout",
     "output_type": "stream",
     "text": [
      "+-----------------------------------------------------------------------------------------------------------+\n",
      "|word2vec                                                                                                   |\n",
      "+-----------------------------------------------------------------------------------------------------------+\n",
      "|[-0.09264205933562714,-0.010777258267144273,-0.07921142776091919,0.0019313330530779426,0.04196841834561417]|\n",
      "|[-0.07528771340774039,0.08003500958821222,-0.11259922331612585,-0.07165798314138135,-0.04151494064978185]  |\n",
      "|[-0.011081156076455665,0.04892607512061405,-0.0727791852614291,-0.05979215509874459,0.10881402688703282]   |\n",
      "+-----------------------------------------------------------------------------------------------------------+\n",
      "only showing top 3 rows\n",
      "\n"
     ]
    }
   ],
   "source": [
    "# 訓練好的向量\n",
    "df_word2vec.select(\"word2vec\").show(3, truncate = False)"
   ]
  },
  {
   "cell_type": "code",
   "execution_count": 6,
   "id": "d7519643",
   "metadata": {},
   "outputs": [],
   "source": [
    "# 訓練好資料儲存成csv\n",
    "df_word2vec.select(\"lication_nums\", \"release_dates\", \"application_dates\", \"titles\", \"summaries\", \"word2vec\") \\\n",
    "            .toPandas() \\\n",
    "            .to_csv(\"word2vec_data.csv\", index = False)\n",
    "# 將word_embedding另存檔案\n",
    "df_word2vec.select(\"lication_nums\", \"word2vec\") \\\n",
    "            .toPandas() \\\n",
    "            .to_csv(\"only_word2vec_data.csv\", index = False)"
   ]
  },
  {
   "cell_type": "code",
   "execution_count": null,
   "id": "763c2d09",
   "metadata": {},
   "outputs": [],
   "source": []
  }
 ],
 "metadata": {
  "kernelspec": {
   "display_name": "Python 3",
   "language": "python",
   "name": "python3"
  },
  "language_info": {
   "codemirror_mode": {
    "name": "ipython",
    "version": 3
   },
   "file_extension": ".py",
   "mimetype": "text/x-python",
   "name": "python",
   "nbconvert_exporter": "python",
   "pygments_lexer": "ipython3",
   "version": "3.8.8"
  }
 },
 "nbformat": 4,
 "nbformat_minor": 5
}
